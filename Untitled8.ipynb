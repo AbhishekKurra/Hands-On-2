{
  "nbformat": 4,
  "nbformat_minor": 0,
  "metadata": {
    "colab": {
      "provenance": [],
      "authorship_tag": "ABX9TyNUxjJZS9pnVNUNq2J8OAvl",
      "include_colab_link": true
    },
    "kernelspec": {
      "name": "python3",
      "display_name": "Python 3"
    },
    "language_info": {
      "name": "python"
    }
  },
  "cells": [
    {
      "cell_type": "markdown",
      "metadata": {
        "id": "view-in-github",
        "colab_type": "text"
      },
      "source": [
        "<a href=\"https://colab.research.google.com/github/AbhishekKurra/Hands-On-2/blob/main/Untitled8.ipynb\" target=\"_parent\"><img src=\"https://colab.research.google.com/assets/colab-badge.svg\" alt=\"Open In Colab\"/></a>"
      ]
    },
    {
      "cell_type": "code",
      "execution_count": 3,
      "metadata": {
        "colab": {
          "base_uri": "https://localhost:8080/"
        },
        "id": "O1JRai9OkU4v",
        "outputId": "5cfef4b0-a69b-44db-de28-b0516ad95c98"
      },
      "outputs": [
        {
          "output_type": "stream",
          "name": "stdout",
          "text": [
            "Sorted List [2, 4, 5, 6, 8, 9]\n"
          ]
        }
      ],
      "source": [
        "def selection_sort(list):\n",
        "    for i in range(5):\n",
        "        minpos = i\n",
        "        for j in range(i, 6):\n",
        "            if list[j] < list[minpos]:\n",
        "                minpos = j\n",
        "\n",
        "        if list[i] != list[minpos]:\n",
        "            temp = list[i]\n",
        "            list[i] = list[minpos]\n",
        "            list[minpos] = temp\n",
        "\n",
        "list = [6,4,8,2,9,5]\n",
        "selection_sort(list)\n",
        "print('Sorted List',list)"
      ]
    }
  ]
}