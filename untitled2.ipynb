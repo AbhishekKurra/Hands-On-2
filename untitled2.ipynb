{
  "nbformat": 4,
  "nbformat_minor": 0,
  "metadata": {
    "colab": {
      "provenance": [],
      "authorship_tag": "ABX9TyNQifiOhhmYNQkYK55amrPH",
      "include_colab_link": true
    },
    "kernelspec": {
      "name": "python3",
      "display_name": "Python 3"
    },
    "language_info": {
      "name": "python"
    }
  },
  "cells": [
    {
      "cell_type": "markdown",
      "metadata": {
        "id": "view-in-github",
        "colab_type": "text"
      },
      "source": [
        "<a href=\"https://colab.research.google.com/github/AbhishekKurra/Hands-On-2/blob/main/untitled2.ipynb\" target=\"_parent\"><img src=\"https://colab.research.google.com/assets/colab-badge.svg\" alt=\"Open In Colab\"/></a>"
      ]
    },
    {
      "cell_type": "code",
      "execution_count": null,
      "metadata": {
        "colab": {
          "base_uri": "https://localhost:8080/"
        },
        "id": "OIGvch5myYd1",
        "outputId": "536ff0b8-195a-497c-a6fa-139d75ceaaf5"
      },
      "outputs": [
        {
          "output_type": "stream",
          "name": "stdout",
          "text": [
            "Sorted array is: [2, 4, 5, 7, 9]\n"
          ]
        }
      ],
      "source": [
        "def bubble_sort(nums):\n",
        "    for i in range(len(nums)-1,0,-1):\n",
        "        for j in range(i):\n",
        "            if nums[j]>nums[j+1]:\n",
        "                temp=nums[j]\n",
        "                nums[j]=nums[j+1]\n",
        "                nums[j+1]=temp\n",
        "\n",
        "\n",
        "nums=[5,7,9,4,2]\n",
        "bubble_sort(nums)\n",
        "\n",
        "print(\"Sorted array is:\",nums)\n"
      ]
    }
  ]
}